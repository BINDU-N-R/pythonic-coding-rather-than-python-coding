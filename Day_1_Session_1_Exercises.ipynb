{
  "nbformat": 4,
  "nbformat_minor": 0,
  "metadata": {
    "colab": {
      "name": "Day-1-Session-1-Exercises.ipynb",
      "provenance": [],
      "authorship_tag": "ABX9TyM69KIsbSkoyu6r1c2vTjl8",
      "include_colab_link": true
    },
    "kernelspec": {
      "name": "python3",
      "display_name": "Python 3"
    }
  },
  "cells": [
    {
      "cell_type": "markdown",
      "metadata": {
        "id": "view-in-github",
        "colab_type": "text"
      },
      "source": [
        "<a href=\"https://colab.research.google.com/github/BINDU-N-R/pythonic-coding-rather-than-python-coding/blob/master/Day_1_Session_1_Exercises.ipynb\" target=\"_parent\"><img src=\"https://colab.research.google.com/assets/colab-badge.svg\" alt=\"Open In Colab\"/></a>"
      ]
    },
    {
      "cell_type": "code",
      "metadata": {
        "id": "zXRW4n3jGhz_",
        "colab_type": "code",
        "colab": {}
      },
      "source": [
        ""
      ],
      "execution_count": null,
      "outputs": []
    },
    {
      "cell_type": "markdown",
      "metadata": {
        "id": "mrflfJjMGwyx",
        "colab_type": "text"
      },
      "source": [
        "#Question-1"
      ]
    },
    {
      "cell_type": "code",
      "metadata": {
        "id": "NXJOZAv-GzTl",
        "colab_type": "code",
        "colab": {
          "base_uri": "https://localhost:8080/",
          "height": 85
        },
        "outputId": "b0a6ab18-7e9b-41ed-cf33-00711bfe74e0"
      },
      "source": [
        "p = float(input(\"enter the value of  p : \"))\n",
        "n = float(input(\"enter the value of  n : \"))\n",
        "r = float(input(\"enter the value of  r : \"))\n",
        "\n",
        "ci = p * (pow((1 + r / 100), n))\n",
        "print(\"compound interest :\",ci)"
      ],
      "execution_count": 1,
      "outputs": [
        {
          "output_type": "stream",
          "text": [
            "enter the value of  p : 4\n",
            "enter the value of  n : 2\n",
            "enter the value of  r : 1\n",
            "compound interest : 4.0804\n"
          ],
          "name": "stdout"
        }
      ]
    },
    {
      "cell_type": "markdown",
      "metadata": {
        "id": "GbVudKmkHIld",
        "colab_type": "text"
      },
      "source": [
        "#Question-2"
      ]
    },
    {
      "cell_type": "code",
      "metadata": {
        "id": "2ywe4BLMHKb7",
        "colab_type": "code",
        "colab": {
          "base_uri": "https://localhost:8080/",
          "height": 51
        },
        "outputId": "ffef55db-6b97-4377-a278-87456abfffd0"
      },
      "source": [
        "c=float(input(\"enter the value in centigrade: \"))\n",
        "f=9/5*c+32\n",
        "print(c,\"centigrade is equl to \",f,\" farenheit\")"
      ],
      "execution_count": 2,
      "outputs": [
        {
          "output_type": "stream",
          "text": [
            "enter the value in centigrade: 28\n",
            "28.0 centigrade is equl to  82.4  farenheit\n"
          ],
          "name": "stdout"
        }
      ]
    },
    {
      "cell_type": "markdown",
      "metadata": {
        "id": "PmVdxFT4HQ3f",
        "colab_type": "text"
      },
      "source": [
        "#Question-3"
      ]
    },
    {
      "cell_type": "code",
      "metadata": {
        "id": "TXybPiVXHTId",
        "colab_type": "code",
        "colab": {
          "base_uri": "https://localhost:8080/",
          "height": 68
        },
        "outputId": "f1fa34ee-23e7-41c3-ae63-b7a52d61fdc7"
      },
      "source": [
        "n1 = float(input(\"enter n1 : \"))\n",
        "n2 = float(input(\"enter n2 : \"))\n",
        "if(n1>n2):\n",
        "  print(n1)\n",
        "else:\n",
        "  print(n2)"
      ],
      "execution_count": 3,
      "outputs": [
        {
          "output_type": "stream",
          "text": [
            "enter n1 : 5\n",
            "enter n2 : 7\n",
            "7.0\n"
          ],
          "name": "stdout"
        }
      ]
    },
    {
      "cell_type": "markdown",
      "metadata": {
        "id": "9wYPhksOHZjA",
        "colab_type": "text"
      },
      "source": [
        "#Question-4"
      ]
    },
    {
      "cell_type": "code",
      "metadata": {
        "id": "vVeNM3XfHbom",
        "colab_type": "code",
        "colab": {
          "base_uri": "https://localhost:8080/",
          "height": 85
        },
        "outputId": "7b7fdeca-80a1-4bb5-cda9-f1a418d65d6d"
      },
      "source": [
        "from math import pi\n",
        "def area_of_cone(r,h):\n",
        "  return (2*pi*r*r*h)\n",
        "\n",
        "def area_of_cylinder(r,h):\n",
        "  return (1/3*pi*r*r*h)\n",
        "\n",
        "r=int(input(\"enter radius in meters : \"))\n",
        "h=int(input(\"enter hight in meters : \"))\n",
        "cone=area_of_cone(r,h)\n",
        "cyll=area_of_cylinder(r,h)\n",
        "print(\"area_of_cone :\",round(cone),\"square metre\")\n",
        "print(\"area_of_cylinder :\",round(cyll),\"square metre\")"
      ],
      "execution_count": 10,
      "outputs": [
        {
          "output_type": "stream",
          "text": [
            "enter radius in meters : 5\n",
            "enter hight in meters : 7\n",
            "area_of_cone : 1100 square metre\n",
            "area_of_cylinder : 183 square metre\n"
          ],
          "name": "stdout"
        }
      ]
    },
    {
      "cell_type": "markdown",
      "metadata": {
        "id": "HnIP8rJoLhT7",
        "colab_type": "text"
      },
      "source": [
        "#Question-5"
      ]
    },
    {
      "cell_type": "code",
      "metadata": {
        "id": "yjSBydM0Ljgl",
        "colab_type": "code",
        "colab": {
          "base_uri": "https://localhost:8080/",
          "height": 102
        },
        "outputId": "2d01fff4-52f4-4938-b95f-4c0b20ff5ddf"
      },
      "source": [
        "def function(a,b):\n",
        "  return (a and b )\n",
        "\n",
        "n1=int(input(\"Enter N1 : \"))\n",
        "n2=int(input(\"Enter N2 : \"))\n",
        "n3=int(input(\"Enter N3 : \"))\n",
        "n4=int(input(\"Enter N4 : \"))\n",
        "\n",
        "r1=function(n1,n2)\n",
        "r2=function(n3,n4)\n",
        "print(function(r1,r2))"
      ],
      "execution_count": 8,
      "outputs": [
        {
          "output_type": "stream",
          "text": [
            "Enter N1 : 5\n",
            "Enter N2 : 6\n",
            "Enter N3 : 7\n",
            "Enter N4 : 8\n",
            "8\n"
          ],
          "name": "stdout"
        }
      ]
    },
    {
      "cell_type": "markdown",
      "metadata": {
        "id": "gaHvAZBqMoyh",
        "colab_type": "text"
      },
      "source": [
        "#Question-6\n"
      ]
    },
    {
      "cell_type": "code",
      "metadata": {
        "id": "_khncCGEMsPR",
        "colab_type": "code",
        "colab": {
          "base_uri": "https://localhost:8080/",
          "height": 170
        },
        "outputId": "9ab3c4ee-e300-4b63-efc6-731a577e745d"
      },
      "source": [
        "def ODDorEven(m):\n",
        "  if m%2==0:\n",
        "     print(\"even\")\n",
        "  else:\n",
        "     print(\"odd\")\n",
        "  \n",
        "\n",
        "def Factorial(m):\n",
        "  if m == 1:\n",
        "   return m\n",
        "  elif m < 1:\n",
        "   return (\"None\")\n",
        "  else:\n",
        "   return m*Factorial(m-1)\n",
        "  print (Factorial(int(m)))\n",
        "\n",
        "def ODDNoUpto(m):\n",
        " for i in range (m):\n",
        "   if i%2!=0:\n",
        "     print(i)\n",
        "    \n",
        "def PrimeUpto(m):\n",
        "  for i in range(m):  \n",
        "   if i > 1:  \n",
        "       for j in range(2,i):  \n",
        "           if (i % j) == 0:  \n",
        "               break  \n",
        "       else:  \n",
        "           print(i)  \n",
        "\n",
        "\n",
        "n=int(input(\"enter the N : \"))\n",
        "print(\"menu details :\\n1.ODDorEVEN\\n2.Factorial\\n3.ODDNoUptoN\\n4.PrimeUptoN\")\n",
        "choice=int(input('enter your choice : '))\n",
        "\n",
        "if (choice==1):\n",
        "  ODDorEven(n)\n",
        "elif (choice==2):\n",
        " print (Factorial(int(n)))\n",
        "elif (choice==3):\n",
        "  ODDNoUpto(n)\n",
        "elif (choice==4):\n",
        " PrimeUpto(n)\n",
        "else:\n",
        "  print(\"invalid choice plzz try again...!!!\")"
      ],
      "execution_count": 11,
      "outputs": [
        {
          "output_type": "stream",
          "text": [
            "enter the N : 5\n",
            "menu details :\n",
            "1.ODDorEVEN\n",
            "2.Factorial\n",
            "3.ODDNoUptoN\n",
            "4.PrimeUptoN\n",
            "enter your choice : 3\n",
            "1\n",
            "3\n"
          ],
          "name": "stdout"
        }
      ]
    }
  ]
}