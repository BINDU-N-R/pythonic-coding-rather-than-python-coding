{
  "nbformat": 4,
  "nbformat_minor": 0,
  "metadata": {
    "colab": {
      "name": "Day-1-session-1.ipynb",
      "provenance": [],
      "authorship_tag": "ABX9TyN8KZdeWu3DHShoqjO83Tnx",
      "include_colab_link": true
    },
    "kernelspec": {
      "name": "python3",
      "display_name": "Python 3"
    }
  },
  "cells": [
    {
      "cell_type": "markdown",
      "metadata": {
        "id": "view-in-github",
        "colab_type": "text"
      },
      "source": [
        "<a href=\"https://colab.research.google.com/github/BINDU-N-R/pythonic-coding-rather-than-python-coding/blob/master/Day_1_session_1.ipynb\" target=\"_parent\"><img src=\"https://colab.research.google.com/assets/colab-badge.svg\" alt=\"Open In Colab\"/></a>"
      ]
    },
    {
      "cell_type": "markdown",
      "metadata": {
        "id": "JI7eEnNIBI9P",
        "colab_type": "text"
      },
      "source": [
        "#Question-1"
      ]
    },
    {
      "cell_type": "code",
      "metadata": {
        "id": "HDqbp8C1BWyU",
        "colab_type": "code",
        "colab": {
          "base_uri": "https://localhost:8080/",
          "height": 119
        },
        "outputId": "531a545c-7621-4bfa-f12e-dd3359172a7e"
      },
      "source": [
        "# sum of two nos\n",
        "num1 = int(input(\"Enter first no\"))\n",
        "num2 = int(input(\"Enter second no\"))\n",
        "\n",
        "# Adding the two numbers\n",
        "sum = num1 + num2\n",
        "\n",
        "# Display the sum\n",
        "print('The sum of {0} and {1} is {2}'.format(num1, num2, sum))\n"
      ],
      "execution_count": 4,
      "outputs": [
        {
          "output_type": "stream",
          "text": [
            "Enter first no7\n",
            "Enter second no6\n",
            "The sum of 7 and 6 is 13\n",
            "Enter first no8\n",
            "Enter second no4\n",
            "The sum of 8 and 4 is 12\n"
          ],
          "name": "stdout"
        }
      ]
    },
    {
      "cell_type": "markdown",
      "metadata": {
        "id": "739PxACECAQM",
        "colab_type": "text"
      },
      "source": [
        "#Question-2"
      ]
    },
    {
      "cell_type": "code",
      "metadata": {
        "id": "DcWSdUGvCDdy",
        "colab_type": "code",
        "colab": {
          "base_uri": "https://localhost:8080/",
          "height": 51
        },
        "outputId": "8abf090e-00be-48d9-c753-6266673238c7"
      },
      "source": [
        "# To get year (integer input) from the user\n",
        "year = int(input(\"Enter a year: \"))\n",
        "\n",
        "if ((year % 4) == 0 and (year % 100)  != 0) or ((year % 400) == 0):\n",
        "           print(\"{0} is a leap year\".format(year))\n",
        "else:\n",
        "           print(\"{0} is not a leap year\".format(year))\n"
      ],
      "execution_count": 5,
      "outputs": [
        {
          "output_type": "stream",
          "text": [
            "Enter a year: 1999\n",
            "1999 is not a leap year\n"
          ],
          "name": "stdout"
        }
      ]
    },
    {
      "cell_type": "markdown",
      "metadata": {
        "id": "JsagQeC-CMpw",
        "colab_type": "text"
      },
      "source": [
        "#Question-3"
      ]
    },
    {
      "cell_type": "code",
      "metadata": {
        "id": "P8Nx9uNsCPjf",
        "colab_type": "code",
        "colab": {
          "base_uri": "https://localhost:8080/",
          "height": 34
        },
        "outputId": "b1546aee-7742-4b79-ba3b-ac7a2b354c4e"
      },
      "source": [
        "# Program to generate a random number between 0 and 9\n",
        "# import the random module\n",
        "import random\n",
        "print(random.randint(0,9))\n"
      ],
      "execution_count": 6,
      "outputs": [
        {
          "output_type": "stream",
          "text": [
            "8\n"
          ],
          "name": "stdout"
        }
      ]
    },
    {
      "cell_type": "markdown",
      "metadata": {
        "id": "YPB0X_W5CWvD",
        "colab_type": "text"
      },
      "source": [
        "#Question-4"
      ]
    },
    {
      "cell_type": "code",
      "metadata": {
        "id": "Ujq35HjXCZBX",
        "colab_type": "code",
        "colab": {
          "base_uri": "https://localhost:8080/",
          "height": 51
        },
        "outputId": "b9e5bdff-a04f-4a56-c1d5-0243c05c048b"
      },
      "source": [
        "# To take kilometers from the user, uncomment the code below\n",
        "kilometers = int(input(\"Enter value in kilometers\"))\n",
        "\n",
        "# conversion factor\n",
        "conv_fac = 0.621371\n",
        "\n",
        "# calculate miles\n",
        "miles = kilometers * conv_fac\n",
        "print('%0.3f kilometers is equal to %0.3f miles' %(kilometers,miles))\n"
      ],
      "execution_count": 7,
      "outputs": [
        {
          "output_type": "stream",
          "text": [
            "Enter value in kilometers68\n",
            "68.000 kilometers is equal to 42.253 miles\n"
          ],
          "name": "stdout"
        }
      ]
    },
    {
      "cell_type": "markdown",
      "metadata": {
        "id": "qgXoVxVKCtN5",
        "colab_type": "text"
      },
      "source": [
        "#Question-5\n"
      ]
    },
    {
      "cell_type": "code",
      "metadata": {
        "id": "7zFkJUUACwjQ",
        "colab_type": "code",
        "colab": {
          "base_uri": "https://localhost:8080/",
          "height": 85
        },
        "outputId": "2ff09a6a-a984-485c-bd5a-7f3416f333a1"
      },
      "source": [
        "# Solve the quadratic equation ax**2 + bx + c = 0\n",
        "# importing  complex math module\n",
        "import cmath\n",
        "\n",
        " # To take coefficient input from the users\n",
        "a = float(input('Enter a: '))\n",
        "b = float(input('Enter b: '))\n",
        "c = float(input('Enter c: '))\n",
        "\n",
        "# calculate the discriminant\n",
        "d = (b**2) - (4*a*c)\n",
        "\n",
        "# find two solutions\n",
        "sol1 = (-b-cmath.sqrt(d))/(2*a)\n",
        "sol2 = (-b+cmath.sqrt(d))/(2*a)\n",
        "\n",
        "print('The solution are {0} and {1}'.format(sol1,sol2))\n"
      ],
      "execution_count": 8,
      "outputs": [
        {
          "output_type": "stream",
          "text": [
            "Enter a: 5\n",
            "Enter b: 7\n",
            "Enter c: 8\n",
            "The solution are (-0.7-1.0535653752852738j) and (-0.7+1.0535653752852738j)\n"
          ],
          "name": "stdout"
        }
      ]
    },
    {
      "cell_type": "markdown",
      "metadata": {
        "id": "NLAjq0_MC44w",
        "colab_type": "text"
      },
      "source": [
        "#Question-6"
      ]
    },
    {
      "cell_type": "code",
      "metadata": {
        "id": "wZ6N0sHHC74-",
        "colab_type": "code",
        "colab": {
          "base_uri": "https://localhost:8080/",
          "height": 51
        },
        "outputId": "6003d663-fed7-4292-cae6-2743f95c82cc"
      },
      "source": [
        "def test_prime(n):\n",
        "    if (n==1):\n",
        "        return False\n",
        "    elif (n==2):\n",
        "        return True;\n",
        "    else:\n",
        "        for x in range(2,n):\n",
        "            if(n % x==0):\n",
        "                return False\n",
        "        return True\n",
        "no=int(input(\"Enter the number\"))\n",
        "if (test_prime(no)) is True :\n",
        "    print(\" {0} is a prime no\".format(no))\n",
        "else:\n",
        "     print(\" {0} is not a prime no\".format(no))\n"
      ],
      "execution_count": 9,
      "outputs": [
        {
          "output_type": "stream",
          "text": [
            "Enter the number7\n",
            " 7 is a prime no\n"
          ],
          "name": "stdout"
        }
      ]
    },
    {
      "cell_type": "markdown",
      "metadata": {
        "id": "xFG-_6KsDEsr",
        "colab_type": "text"
      },
      "source": [
        "#Question-7"
      ]
    },
    {
      "cell_type": "code",
      "metadata": {
        "id": "vos9iGGVDHCE",
        "colab_type": "code",
        "colab": {
          "base_uri": "https://localhost:8080/",
          "height": 748
        },
        "outputId": "7941b070-cf41-4944-a120-10848705a00e"
      },
      "source": [
        "loop = 1 # 1 means loop; anything else means don't loop.\n",
        "choice = 0 # This variable holds the user's choice in the menu\n",
        "\n",
        "def add(a,b):\n",
        "    return a+b \n",
        "def sub(a,b):\n",
        "    return a-b\n",
        "def mul(a,b):\n",
        "    return a*b\n",
        "def div(a,b):\n",
        "    return a/b\n",
        "\n",
        "while loop == 1:\n",
        "    # Print what options you have\n",
        "    print (\"Welcome to calculator.py\")\n",
        "    print (\"your options are:\")\n",
        "    print (\" \")\n",
        "    print(\"1) Addition\")\n",
        "    print(\"2) Subtraction\")\n",
        "    print(\"3) Multiplication\")\n",
        "    print(\"4) Division\")\n",
        "    print(\"5) Quit calculator.py\")\n",
        "    print(\" \")\n",
        "    try:\n",
        "        choice = int(input(\"Choose your option: \"))\n",
        "    except:\n",
        "        print('please enter a valid number for option')\n",
        "    print(\" \")\n",
        "    print(\" \")\n",
        "    if choice == 1:\n",
        "        x = int(input(\"Enter 1st no: \"))\n",
        "        y = int(input(\"Enter 2nd no: \"))\n",
        "        print(\"The answer is \",add(x,y))\n",
        "\n",
        "    elif choice == 2:\n",
        "        x = int(input(\"Enter 1st no: \"))\n",
        "        y = int(input(\"Enter 2nd no: \"))\n",
        "        print(\"answer is \",sub(x,y))\n",
        "          \n",
        "    elif choice == 3:\n",
        "        x = int(input(\"Enter 1st no: \"))\n",
        "        y = int(input(\"Enter 2nd no: \"))\n",
        "        print(\"answer is \",mul(x,y))\n",
        "\n",
        "    elif choice == 4:\n",
        "        x = int(input(\"Enter 1st no: \"))\n",
        "        y = int(input(\"Enter 2nd no: \"))\n",
        "        print(\"answer is \",div(x,y))\n",
        "        \n",
        "    elif choice == 5:\n",
        "        loop = 0\n",
        "     \n",
        "    else:\n",
        "        print(\"please choice a valid option from 1 to 5\")\n",
        "        choice=0\n",
        "print (\"Thank-you for using calculator.py!\")"
      ],
      "execution_count": 20,
      "outputs": [
        {
          "output_type": "stream",
          "text": [
            "Welcome to calculator.py\n",
            "your options are:\n",
            " \n",
            "1) Addition\n",
            "2) Subtraction\n",
            "3) Multiplication\n",
            "4) Division\n",
            "5) Quit calculator.py\n",
            " \n",
            "Choose your option: 3\n",
            " \n",
            " \n",
            "Enter 1st no: 7\n",
            "Enter 2nd no: 6\n",
            "answer is  42\n",
            "Welcome to calculator.py\n",
            "your options are:\n",
            " \n",
            "1) Addition\n",
            "2) Subtraction\n",
            "3) Multiplication\n",
            "4) Division\n",
            "5) Quit calculator.py\n",
            " \n",
            "Choose your option: 3\n",
            " \n",
            " \n",
            "Enter 1st no: 3\n",
            "Enter 2nd no: 6\n",
            "answer is  18\n",
            "Welcome to calculator.py\n",
            "your options are:\n",
            " \n",
            "1) Addition\n",
            "2) Subtraction\n",
            "3) Multiplication\n",
            "4) Division\n",
            "5) Quit calculator.py\n",
            " \n",
            "Choose your option: 5\n",
            " \n",
            " \n",
            "Thank-you for using calculator.py!\n"
          ],
          "name": "stdout"
        }
      ]
    }
  ]
}